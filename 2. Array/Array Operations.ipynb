{
 "cells": [
  {
   "cell_type": "markdown",
   "id": "3b3827e1",
   "metadata": {},
   "source": [
    "# Create an Array"
   ]
  },
  {
   "cell_type": "code",
   "execution_count": 1,
   "id": "9708178d",
   "metadata": {},
   "outputs": [],
   "source": [
    "# Create array with array module"
   ]
  },
  {
   "cell_type": "code",
   "execution_count": 2,
   "id": "a5823dab",
   "metadata": {},
   "outputs": [
    {
     "name": "stdout",
     "output_type": "stream",
     "text": [
      "array('i')\n",
      "array('i', [1, 2, 3, 4])\n"
     ]
    }
   ],
   "source": [
    "import array\n",
    "\n",
    "my_array = array.array(\"i\") # O(1)\n",
    "print(my_array)\n",
    "\n",
    "my_array1 = array.array('i', [1,2,3,4]) # O(n)\n",
    "print(my_array1)"
   ]
  },
  {
   "cell_type": "code",
   "execution_count": 3,
   "id": "c14086cc",
   "metadata": {},
   "outputs": [],
   "source": [
    "# array creation using numpy module"
   ]
  },
  {
   "cell_type": "code",
   "execution_count": 4,
   "id": "3eb1dff3",
   "metadata": {},
   "outputs": [
    {
     "name": "stdout",
     "output_type": "stream",
     "text": [
      "[]\n",
      "[1 2 3 4]\n"
     ]
    }
   ],
   "source": [
    "import numpy as np\n",
    "np_array = np.array([], dtype=int) # O(1)\n",
    "print(np_array)\n",
    "\n",
    "np_array1 = np.array([1,2,3,4]) # O(n)\n",
    "print(np_array1)"
   ]
  },
  {
   "cell_type": "markdown",
   "id": "a6b8fb25",
   "metadata": {},
   "source": [
    "# Insertion to Array"
   ]
  },
  {
   "cell_type": "code",
   "execution_count": 5,
   "id": "3b79d06f",
   "metadata": {},
   "outputs": [
    {
     "name": "stdout",
     "output_type": "stream",
     "text": [
      "array('i', [1, 2, 3, 4])\n",
      "array('i', [6, 1, 2, 3, 4])\n"
     ]
    }
   ],
   "source": [
    "import array\n",
    "\n",
    "my_array1 = array.array('i', [1,2,3,4]) \n",
    "print(my_array1)\n",
    "my_array1.insert(0, 6)\n",
    "print(my_array1)"
   ]
  },
  {
   "cell_type": "code",
   "execution_count": 6,
   "id": "88d3933c",
   "metadata": {},
   "outputs": [
    {
     "name": "stdout",
     "output_type": "stream",
     "text": [
      "array('i', [1, 2, 3, 4])\n",
      "array('i', [1, 2, 3, 6, 4])\n"
     ]
    }
   ],
   "source": [
    "import array\n",
    "\n",
    "my_array1 = array.array('i', [1,2,3,4]) \n",
    "print(my_array1)\n",
    "my_array1.insert(3, 6)\n",
    "print(my_array1)"
   ]
  },
  {
   "cell_type": "markdown",
   "id": "664c24d7",
   "metadata": {},
   "source": [
    "# Traversal Operation"
   ]
  },
  {
   "cell_type": "code",
   "execution_count": 7,
   "id": "fbfc6a9b",
   "metadata": {},
   "outputs": [],
   "source": [
    "from array import *"
   ]
  },
  {
   "cell_type": "code",
   "execution_count": 8,
   "id": "93d311d4",
   "metadata": {},
   "outputs": [],
   "source": [
    "arr1 = array(\"i\", [1,2,3,4,5,6])\n",
    "arr2 = array(\"d\", [1.3, 1.5, 1.6])"
   ]
  },
  {
   "cell_type": "code",
   "execution_count": 9,
   "id": "6a7d6e1a",
   "metadata": {},
   "outputs": [],
   "source": [
    "def traversal(array):\n",
    "    for i in array: # O(n)\n",
    "        print(i) # O(1)"
   ]
  },
  {
   "cell_type": "code",
   "execution_count": 10,
   "id": "752d896b",
   "metadata": {},
   "outputs": [
    {
     "name": "stdout",
     "output_type": "stream",
     "text": [
      "1\n",
      "2\n",
      "3\n",
      "4\n",
      "5\n",
      "6\n"
     ]
    }
   ],
   "source": [
    "traversal(arr1)"
   ]
  },
  {
   "cell_type": "markdown",
   "id": "5297b72c",
   "metadata": {},
   "source": [
    "# Accessing an element of Array"
   ]
  },
  {
   "cell_type": "code",
   "execution_count": 11,
   "id": "a0d6887a",
   "metadata": {},
   "outputs": [],
   "source": [
    "arr1 = array(\"i\", [1,2,3,4,5,6])"
   ]
  },
  {
   "cell_type": "code",
   "execution_count": 12,
   "id": "95510952",
   "metadata": {},
   "outputs": [],
   "source": [
    "def accessElement(array, index):\n",
    "    if index >= len(array):\n",
    "        print(\"there is not any element in this index\")\n",
    "    else:\n",
    "        print(array[index])"
   ]
  },
  {
   "cell_type": "code",
   "execution_count": 13,
   "id": "c2d3a39a",
   "metadata": {},
   "outputs": [
    {
     "name": "stdout",
     "output_type": "stream",
     "text": [
      "4\n"
     ]
    }
   ],
   "source": [
    "accessElement(arr1, 3)"
   ]
  },
  {
   "cell_type": "markdown",
   "id": "c766e3a3",
   "metadata": {},
   "source": [
    "# Searching for an Element"
   ]
  },
  {
   "cell_type": "code",
   "execution_count": 14,
   "id": "6539ceef",
   "metadata": {},
   "outputs": [],
   "source": [
    "arr1 = array(\"i\", [1,2,3,4,5,6])"
   ]
  },
  {
   "cell_type": "code",
   "execution_count": 15,
   "id": "5595f4df",
   "metadata": {},
   "outputs": [],
   "source": [
    "def linear_search(arr, target):\n",
    "    for i in range(len(arr)): # O(n)\n",
    "        if arr[i] == target:\n",
    "            return i # O(1)\n",
    "    return \"Sorry\" # O(1)"
   ]
  },
  {
   "cell_type": "code",
   "execution_count": 16,
   "id": "94a51463",
   "metadata": {},
   "outputs": [
    {
     "name": "stdout",
     "output_type": "stream",
     "text": [
      "Sorry\n"
     ]
    }
   ],
   "source": [
    "print(linear_search(arr1, 8))"
   ]
  },
  {
   "cell_type": "markdown",
   "id": "97c7290c",
   "metadata": {},
   "source": [
    "# Deleting an Element from Array"
   ]
  },
  {
   "cell_type": "code",
   "execution_count": 17,
   "id": "38460c19",
   "metadata": {},
   "outputs": [],
   "source": [
    "arr1 = array(\"i\", [1,2,3,4,5,6])"
   ]
  },
  {
   "cell_type": "code",
   "execution_count": 18,
   "id": "9ac5a668",
   "metadata": {},
   "outputs": [
    {
     "name": "stdout",
     "output_type": "stream",
     "text": [
      "array('i', [1, 2, 4, 5, 6])\n"
     ]
    }
   ],
   "source": [
    "arr1.remove(3)\n",
    "\n",
    "# if remving from last then O(1)\n",
    "# if we remove from middle or something then O(n)\n",
    "\n",
    "print(arr1)"
   ]
  },
  {
   "cell_type": "markdown",
   "id": "3774f910",
   "metadata": {},
   "source": [
    "# One Dimensional Array Practice"
   ]
  },
  {
   "cell_type": "code",
   "execution_count": 19,
   "id": "90c5e63d",
   "metadata": {},
   "outputs": [],
   "source": [
    "arr = array('i', [1,2,3,4,5])"
   ]
  },
  {
   "cell_type": "code",
   "execution_count": 20,
   "id": "9b9697cc",
   "metadata": {},
   "outputs": [
    {
     "name": "stdout",
     "output_type": "stream",
     "text": [
      "1\n",
      "2\n",
      "3\n",
      "4\n",
      "5\n"
     ]
    }
   ],
   "source": [
    "for i in arr:\n",
    "    print(i)"
   ]
  },
  {
   "cell_type": "code",
   "execution_count": 21,
   "id": "11e3ac0b",
   "metadata": {},
   "outputs": [
    {
     "data": {
      "text/plain": [
       "2"
      ]
     },
     "execution_count": 21,
     "metadata": {},
     "output_type": "execute_result"
    }
   ],
   "source": [
    "arr[1]"
   ]
  },
  {
   "cell_type": "code",
   "execution_count": 22,
   "id": "0e6d6958",
   "metadata": {},
   "outputs": [],
   "source": [
    "arr.append(6)"
   ]
  },
  {
   "cell_type": "code",
   "execution_count": 23,
   "id": "d7940c84",
   "metadata": {},
   "outputs": [
    {
     "data": {
      "text/plain": [
       "array('i', [1, 2, 3, 4, 5, 6])"
      ]
     },
     "execution_count": 23,
     "metadata": {},
     "output_type": "execute_result"
    }
   ],
   "source": [
    "arr"
   ]
  },
  {
   "cell_type": "code",
   "execution_count": 24,
   "id": "06ae9e06",
   "metadata": {},
   "outputs": [
    {
     "name": "stdout",
     "output_type": "stream",
     "text": [
      "array('i', [1, 2, 3, 10, 4, 5, 6])\n"
     ]
    }
   ],
   "source": [
    "# insert\n",
    "arr.insert(3, 10)\n",
    "\n",
    "print(arr)"
   ]
  },
  {
   "cell_type": "code",
   "execution_count": 25,
   "id": "5384c4a3",
   "metadata": {},
   "outputs": [
    {
     "name": "stdout",
     "output_type": "stream",
     "text": [
      "array('i', [1, 2, 3, 10, 4, 5, 6, 10, 11, 12])\n"
     ]
    }
   ],
   "source": [
    "# extend\n",
    "my_array1 = array('i', [10,11,12])\n",
    "arr.extend(my_array1)\n",
    "print(arr)"
   ]
  },
  {
   "cell_type": "code",
   "execution_count": 26,
   "id": "82f0d784",
   "metadata": {},
   "outputs": [
    {
     "name": "stdout",
     "output_type": "stream",
     "text": [
      "array('i', [1, 2, 3, 4, 5, 20, 30, 40])\n"
     ]
    }
   ],
   "source": [
    "# add items from list\n",
    "arr = array('i', [1,2,3,4,5])\n",
    "\n",
    "list = [20,30, 40]\n",
    "arr.fromlist(list)\n",
    "print(arr)"
   ]
  },
  {
   "cell_type": "code",
   "execution_count": 27,
   "id": "54982370",
   "metadata": {},
   "outputs": [
    {
     "name": "stdout",
     "output_type": "stream",
     "text": [
      "array('i', [1, 2, 3, 4, 5, 20, 30])\n"
     ]
    }
   ],
   "source": [
    "# remove last array\n",
    "\n",
    "arr.pop()\n",
    "print(arr)"
   ]
  },
  {
   "cell_type": "code",
   "execution_count": 28,
   "id": "b8e5f6c1",
   "metadata": {},
   "outputs": [
    {
     "name": "stdout",
     "output_type": "stream",
     "text": [
      "5\n"
     ]
    }
   ],
   "source": [
    "#index of array\n",
    "print(arr.index(20))"
   ]
  },
  {
   "cell_type": "code",
   "execution_count": 29,
   "id": "d570dd59",
   "metadata": {},
   "outputs": [
    {
     "data": {
      "text/plain": [
       "array('i', [30, 20, 5, 4, 3, 2, 1])"
      ]
     },
     "execution_count": 29,
     "metadata": {},
     "output_type": "execute_result"
    }
   ],
   "source": [
    "#reverse array\n",
    "\n",
    "arr.reverse()\n",
    "arr"
   ]
  },
  {
   "cell_type": "code",
   "execution_count": 30,
   "id": "a1bd6f9c",
   "metadata": {},
   "outputs": [
    {
     "data": {
      "text/plain": [
       "(140585476870752, 7)"
      ]
     },
     "execution_count": 30,
     "metadata": {},
     "output_type": "execute_result"
    }
   ],
   "source": [
    "# buffer info\n",
    "\n",
    "arr.buffer_info()"
   ]
  },
  {
   "cell_type": "code",
   "execution_count": 31,
   "id": "eaefe469",
   "metadata": {},
   "outputs": [
    {
     "data": {
      "text/plain": [
       "1"
      ]
     },
     "execution_count": 31,
     "metadata": {},
     "output_type": "execute_result"
    }
   ],
   "source": [
    "arr.count(2)"
   ]
  },
  {
   "cell_type": "code",
   "execution_count": 38,
   "id": "174e0292",
   "metadata": {},
   "outputs": [
    {
     "name": "stdout",
     "output_type": "stream",
     "text": [
      "[30, 20, 5, 4, 3, 2, 1]\n"
     ]
    }
   ],
   "source": [
    "# converting array to list\n",
    "\n",
    "list = arr.tolist()\n",
    "print(list)"
   ]
  },
  {
   "cell_type": "code",
   "execution_count": 39,
   "id": "7d0cfd10",
   "metadata": {},
   "outputs": [
    {
     "data": {
      "text/plain": [
       "array('i', [20, 5])"
      ]
     },
     "execution_count": 39,
     "metadata": {},
     "output_type": "execute_result"
    }
   ],
   "source": [
    "# slicing\n",
    "arr[1:3]"
   ]
  },
  {
   "cell_type": "code",
   "execution_count": 40,
   "id": "44ac50e7",
   "metadata": {},
   "outputs": [
    {
     "data": {
      "text/plain": [
       "array('i', [30, 20])"
      ]
     },
     "execution_count": 40,
     "metadata": {},
     "output_type": "execute_result"
    }
   ],
   "source": [
    "arr[:2]"
   ]
  },
  {
   "cell_type": "code",
   "execution_count": 41,
   "id": "fce1aec6",
   "metadata": {},
   "outputs": [
    {
     "data": {
      "text/plain": [
       "array('i', [5, 4, 3, 2, 1])"
      ]
     },
     "execution_count": 41,
     "metadata": {},
     "output_type": "execute_result"
    }
   ],
   "source": [
    "arr[2:]"
   ]
  },
  {
   "cell_type": "markdown",
   "id": "5e74d42d",
   "metadata": {},
   "source": [
    "# Create two dimensional array"
   ]
  },
  {
   "cell_type": "code",
   "execution_count": 1,
   "id": "c5d6f58a",
   "metadata": {},
   "outputs": [],
   "source": [
    "import numpy as np"
   ]
  },
  {
   "cell_type": "code",
   "execution_count": 74,
   "id": "b3bce037",
   "metadata": {},
   "outputs": [],
   "source": [
    "twoDArray = np.array([[11, 12, 23, 5], [2, 3, 4, 5], [9, 7, 90, 6]])"
   ]
  },
  {
   "cell_type": "code",
   "execution_count": 75,
   "id": "a52f96e1",
   "metadata": {},
   "outputs": [
    {
     "data": {
      "text/plain": [
       "array([[11, 12, 23,  5],\n",
       "       [ 2,  3,  4,  5],\n",
       "       [ 9,  7, 90,  6]])"
      ]
     },
     "execution_count": 75,
     "metadata": {},
     "output_type": "execute_result"
    }
   ],
   "source": [
    "twoDArray"
   ]
  },
  {
   "cell_type": "code",
   "execution_count": 65,
   "id": "386675d5",
   "metadata": {},
   "outputs": [],
   "source": [
    "# Insertion of column at the beginning\n",
    "\n",
    "newTwoDarray = np.insert(twoDArray, 0, [[1, 2, 3]], axis=1) # coulmun means axis 1"
   ]
  },
  {
   "cell_type": "code",
   "execution_count": 66,
   "id": "599889a2",
   "metadata": {},
   "outputs": [
    {
     "data": {
      "text/plain": [
       "array([[ 1, 11, 12, 23,  5],\n",
       "       [ 2,  2,  3,  4,  5],\n",
       "       [ 3,  9,  7, 90,  6]])"
      ]
     },
     "execution_count": 66,
     "metadata": {},
     "output_type": "execute_result"
    }
   ],
   "source": [
    "newTwoDarray"
   ]
  },
  {
   "cell_type": "code",
   "execution_count": 67,
   "id": "1530de2d",
   "metadata": {},
   "outputs": [],
   "source": [
    "# Insertion of column at the beginning\n",
    "\n",
    "newTwoDarray = np.insert(twoDArray, 0, [[1, 2, 3, 4]], axis=0) # coulmun means axis 1"
   ]
  },
  {
   "cell_type": "code",
   "execution_count": 68,
   "id": "089c8a62",
   "metadata": {},
   "outputs": [
    {
     "data": {
      "text/plain": [
       "array([[ 1,  2,  3,  4],\n",
       "       [11, 12, 23,  5],\n",
       "       [ 2,  3,  4,  5],\n",
       "       [ 9,  7, 90,  6]])"
      ]
     },
     "execution_count": 68,
     "metadata": {},
     "output_type": "execute_result"
    }
   ],
   "source": [
    "newTwoDarray"
   ]
  },
  {
   "cell_type": "code",
   "execution_count": 69,
   "id": "4d835064",
   "metadata": {},
   "outputs": [
    {
     "data": {
      "text/plain": [
       "array([[11, 12, 23,  5],\n",
       "       [ 2,  3,  4,  5],\n",
       "       [ 0,  0,  0,  0],\n",
       "       [ 9,  7, 90,  6]])"
      ]
     },
     "execution_count": 69,
     "metadata": {},
     "output_type": "execute_result"
    }
   ],
   "source": [
    "# if we want to add at the middle\n",
    "\n",
    "addmiddle = np.insert(twoDArray, 2, [[0, 0, 0, 0]], axis=0) # coulmun means axis 1\n",
    "addmiddle"
   ]
  },
  {
   "cell_type": "code",
   "execution_count": 70,
   "id": "e701c853",
   "metadata": {},
   "outputs": [
    {
     "data": {
      "text/plain": [
       "array([[11, 12, 23,  5],\n",
       "       [ 2,  3,  4,  5],\n",
       "       [ 9,  7, 90,  6],\n",
       "       [ 0,  0,  0,  0]])"
      ]
     },
     "execution_count": 70,
     "metadata": {},
     "output_type": "execute_result"
    }
   ],
   "source": [
    "# using append\n",
    "\n",
    "addmiddle = np.append(twoDArray, [[0, 0, 0, 0]], axis=0) # coulmun means axis 1\n",
    "addmiddle"
   ]
  },
  {
   "cell_type": "markdown",
   "id": "6510e5b9",
   "metadata": {},
   "source": [
    "# Access two dimensional array"
   ]
  },
  {
   "cell_type": "code",
   "execution_count": null,
   "id": "55786e61",
   "metadata": {},
   "outputs": [],
   "source": [
    "# first have to identify row\n",
    "# then column index "
   ]
  },
  {
   "cell_type": "code",
   "execution_count": 78,
   "id": "9c1d0658",
   "metadata": {},
   "outputs": [],
   "source": [
    "def accessElements(array, rowindex, colindex):\n",
    "    if rowindex >= len(array) and colindex >= len(array[0]): # O(1)\n",
    "        print(\"Incorrect Index\") # O(1)\n",
    "    else:\n",
    "        print(array[rowindex][colindex]) # O(1)"
   ]
  },
  {
   "cell_type": "code",
   "execution_count": 79,
   "id": "03fc5210",
   "metadata": {},
   "outputs": [
    {
     "name": "stdout",
     "output_type": "stream",
     "text": [
      "4\n"
     ]
    }
   ],
   "source": [
    "accessElements(twoDArray, 1, 2)\n"
   ]
  },
  {
   "cell_type": "markdown",
   "id": "5331b13f",
   "metadata": {},
   "source": [
    "# Traversal two dimensional array"
   ]
  },
  {
   "cell_type": "code",
   "execution_count": 6,
   "id": "b7ae7b3a",
   "metadata": {},
   "outputs": [],
   "source": [
    "twoDArray = np.array([[11, 12, 23, 5], [2, 3, 4, 5], [9, 7, 90, 6]])"
   ]
  },
  {
   "cell_type": "code",
   "execution_count": 4,
   "id": "cf3ba303",
   "metadata": {},
   "outputs": [],
   "source": [
    "def traverseTdarraay(array):\n",
    "    for i in range(len(array)): # O(mn)\n",
    "        for j in range(len(array[0])): # O(n)\n",
    "            print(array[i][j]) # O(1)"
   ]
  },
  {
   "cell_type": "code",
   "execution_count": 5,
   "id": "8b69d22a",
   "metadata": {},
   "outputs": [
    {
     "name": "stdout",
     "output_type": "stream",
     "text": [
      "11\n",
      "12\n",
      "23\n",
      "5\n",
      "2\n",
      "3\n",
      "4\n",
      "5\n",
      "9\n",
      "7\n",
      "90\n",
      "6\n"
     ]
    }
   ],
   "source": [
    "traverseTdarraay(twoDArray)"
   ]
  },
  {
   "cell_type": "markdown",
   "id": "37fb2371",
   "metadata": {},
   "source": [
    "# Searching"
   ]
  },
  {
   "cell_type": "code",
   "execution_count": 10,
   "id": "411dcd0c",
   "metadata": {},
   "outputs": [],
   "source": [
    "def searchTDA(array, value):\n",
    "    for i in range(len(array)): # O(mn)\n",
    "        for j in range(len(array[0])): # O(n)\n",
    "            if array[i][j] == value: # O(1)\n",
    "                return \"The value is located \"+str(i)+\" \"+str(j)\n",
    "    return \"the element is not found\"\n",
    "    "
   ]
  },
  {
   "cell_type": "code",
   "execution_count": 11,
   "id": "f7d032ca",
   "metadata": {},
   "outputs": [
    {
     "data": {
      "text/plain": [
       "'The value is located 1 0'"
      ]
     },
     "execution_count": 11,
     "metadata": {},
     "output_type": "execute_result"
    }
   ],
   "source": [
    "searchTDA(twoDArray, 2)"
   ]
  },
  {
   "cell_type": "markdown",
   "id": "0ce5769c",
   "metadata": {},
   "source": [
    "# Deletion"
   ]
  },
  {
   "cell_type": "code",
   "execution_count": 12,
   "id": "b133db15",
   "metadata": {},
   "outputs": [],
   "source": [
    "newTD = np.delete(twoDArray, 0, axis=1)"
   ]
  },
  {
   "cell_type": "code",
   "execution_count": 13,
   "id": "a61fa2d6",
   "metadata": {},
   "outputs": [
    {
     "data": {
      "text/plain": [
       "array([[12, 23,  5],\n",
       "       [ 3,  4,  5],\n",
       "       [ 7, 90,  6]])"
      ]
     },
     "execution_count": 13,
     "metadata": {},
     "output_type": "execute_result"
    }
   ],
   "source": [
    "newTD"
   ]
  },
  {
   "cell_type": "code",
   "execution_count": null,
   "id": "61752924",
   "metadata": {},
   "outputs": [],
   "source": []
  },
  {
   "cell_type": "code",
   "execution_count": null,
   "id": "c1f79aaf",
   "metadata": {},
   "outputs": [],
   "source": []
  },
  {
   "cell_type": "code",
   "execution_count": null,
   "id": "684f1bbf",
   "metadata": {},
   "outputs": [],
   "source": []
  },
  {
   "cell_type": "code",
   "execution_count": null,
   "id": "461706d9",
   "metadata": {},
   "outputs": [],
   "source": []
  },
  {
   "cell_type": "code",
   "execution_count": null,
   "id": "da0f7caa",
   "metadata": {},
   "outputs": [],
   "source": []
  }
 ],
 "metadata": {
  "kernelspec": {
   "display_name": "Python 3 (ipykernel)",
   "language": "python",
   "name": "python3"
  },
  "language_info": {
   "codemirror_mode": {
    "name": "ipython",
    "version": 3
   },
   "file_extension": ".py",
   "mimetype": "text/x-python",
   "name": "python",
   "nbconvert_exporter": "python",
   "pygments_lexer": "ipython3",
   "version": "3.10.9"
  }
 },
 "nbformat": 4,
 "nbformat_minor": 5
}
